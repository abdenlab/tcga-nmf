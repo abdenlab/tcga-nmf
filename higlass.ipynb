{
 "cells": [
  {
   "cell_type": "code",
   "execution_count": null,
   "id": "b4ce4112",
   "metadata": {},
   "outputs": [],
   "source": [
    "import json\n",
    "\n",
    "import higlass as hg\n",
    "\n",
    "\n",
    "with open(\"conf/viewconf.json\", \"r\") as f:\n",
    "    viewconf = hg.Viewconf(**json.load(f))\n",
    "\n",
    "viewconf"
   ]
  },
  {
   "cell_type": "code",
   "execution_count": null,
   "id": "63c1f54a",
   "metadata": {},
   "outputs": [],
   "source": []
  }
 ],
 "metadata": {
  "kernelspec": {
   "display_name": ".venv",
   "language": "python",
   "name": "python3"
  },
  "language_info": {
   "codemirror_mode": {
    "name": "ipython",
    "version": 3
   },
   "file_extension": ".py",
   "mimetype": "text/x-python",
   "name": "python",
   "nbconvert_exporter": "python",
   "pygments_lexer": "ipython3",
   "version": "3.11.10"
  }
 },
 "nbformat": 4,
 "nbformat_minor": 5
}
