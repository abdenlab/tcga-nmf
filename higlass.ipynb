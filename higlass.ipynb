{
 "cells": [
  {
   "cell_type": "code",
   "execution_count": null,
   "id": "b4ce4112",
   "metadata": {
    "vscode": {
     "languageId": "plaintext"
    }
   },
   "outputs": [],
   "source": [
    "import json\n",
    "\n",
    "import higlass as hg\n",
    "\n",
    "\n",
    "with open(\"viewconf.json\", \"r\") as f:\n",
    "    viewconf = hg.Viewconf(**json.load(f))\n",
    "\n",
    "viewconf"
   ]
  }
 ],
 "metadata": {
  "language_info": {
   "name": "python"
  }
 },
 "nbformat": 4,
 "nbformat_minor": 5
}
