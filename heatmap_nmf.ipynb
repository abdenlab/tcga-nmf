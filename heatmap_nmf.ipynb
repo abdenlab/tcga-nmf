{
 "cells": [
  {
   "cell_type": "code",
   "execution_count": 1,
   "id": "391c45d5",
   "metadata": {
    "id": "00_setup"
   },
   "outputs": [
    {
     "name": "stdout",
     "output_type": "stream",
     "text": [
      "✅ Libraries ready & custom-widget manager enabled\n"
     ]
    }
   ],
   "source": [
    "# 1 · install required libraries\n",
    "# !pip -q install --upgrade plotly anywidget pandas polars numpy\n",
    "\n",
    "\n",
    "print(\"✅ Libraries ready & custom-widget manager enabled\")"
   ]
  },
  {
   "cell_type": "code",
   "execution_count": 1,
   "id": "8441f5c1",
   "metadata": {
    "id": "10_import_reload"
   },
   "outputs": [
    {
     "name": "stdout",
     "output_type": "stream",
     "text": [
      "✅ helpers & widget packages reloaded from /net/users/voy/nmfwidget\n"
     ]
    }
   ],
   "source": [
    "# 2 · ensure project code is importable and reload edited modules\n",
    "import sys, pathlib, importlib, pprint\n",
    "\n",
    "root = pathlib.Path(\".\").resolve()\n",
    "if str(root) not in sys.path:\n",
    "    sys.path.append(str(root))\n",
    "\n",
    "import helpers.data_loader as dl\n",
    "import widget.nmf_widget  as nmfw\n",
    "importlib.reload(dl)\n",
    "importlib.reload(nmfw)\n",
    "\n",
    "print(\"✅ helpers & widget packages reloaded from\", root)"
   ]
  },
  {
   "cell_type": "code",
   "execution_count": 2,
   "id": "c8e7b266",
   "metadata": {
    "id": "20_sanity_check"
   },
   "outputs": [
    {
     "name": "stdout",
     "output_type": "stream",
     "text": [
      "Loading data from: comps/all_H_component_contributions.csv\n",
      "Matrix shape: (410, 16)\n",
      "Sample IDs  : 410\n",
      "Cancer types: 410\n"
     ]
    }
   ],
   "source": [
    "# 3 · quick data sanity-check (optional)\n",
    "H, ids, cancers = dl.get_prepared_data(\"config.json\")\n",
    "print(\"Matrix shape:\", H.shape)\n",
    "print(\"Sample IDs  :\", len(ids))\n",
    "print(\"Cancer types:\", len(cancers))"
   ]
  },
  {
   "cell_type": "code",
   "execution_count": 3,
   "id": "e641b695",
   "metadata": {
    "id": "30_launch_widget"
   },
   "outputs": [
    {
     "name": "stdout",
     "output_type": "stream",
     "text": [
      "Loading data from: comps/all_H_component_contributions.csv\n",
      "Loading component colors from: nmf_component_color_map.json\n",
      "Loaded component colors: {'Comp_0': '#332288', 'Comp_1': '#88CCEE', 'Comp_2': '#117733', 'Comp_3': '#DDCC77', 'Comp_4': '#CC6677', 'Comp_5': '#882255', 'Comp_6': '#AA4499', 'Comp_7': '#44AA99', 'Comp_8': '#999933', 'Comp_9': '#DDDDDD', 'Comp_10': '#E69F00', 'Comp_11': '#56B4E9', 'Comp_12': '#009E73', 'Comp_13': '#F0E442', 'Comp_14': '#0072B2', 'Comp_15': '#D55E00'}\n",
      "Component color mapping: {'Component 1': {'color': '#332288', 'matched_key': 'Comp_0'}, 'Component 2': {'color': '#88CCEE', 'matched_key': 'Comp_1'}, 'Component 7': {'color': '#AA4499', 'matched_key': 'Comp_6'}, 'Component 11': {'color': '#E69F00', 'matched_key': 'Comp_10'}, 'Component 3': {'color': '#117733', 'matched_key': 'Comp_2'}, 'Component 5': {'color': '#CC6677', 'matched_key': 'Comp_4'}, 'Component 8': {'color': '#44AA99', 'matched_key': 'Comp_7'}, 'Component 9': {'color': '#999933', 'matched_key': 'Comp_8'}, 'Component 4': {'color': '#DDCC77', 'matched_key': 'Comp_3'}, 'Component 10': {'color': '#DDDDDD', 'matched_key': 'Comp_9'}, 'Component 6': {'color': '#882255', 'matched_key': 'Comp_5'}, 'Component 12': {'color': '#56B4E9', 'matched_key': 'Comp_11'}, 'Component 13': {'color': '#009E73', 'matched_key': 'Comp_12'}, 'Component 14': {'color': '#F0E442', 'matched_key': 'Comp_13'}, 'Component 15': {'color': '#0072B2', 'matched_key': 'Comp_14'}, 'Component 16': {'color': '#D55E00', 'matched_key': 'Comp_15'}}\n",
      "NMFHeatmapWidget: Initialization complete.\n"
     ]
    },
    {
     "data": {
      "application/vnd.jupyter.widget-view+json": {
       "model_id": "1d6942309ed5488bbbc6ca69856da225",
       "version_major": 2,
       "version_minor": 0
      },
      "text/plain": [
       "VBox(children=(Dropdown(description='Sort by:', layout=Layout(width='200px'), options=(('Sort by Component', '…"
      ]
     },
     "metadata": {},
     "output_type": "display_data"
    }
   ],
   "source": [
    "# 4 · build & display the widget\n",
    "from widget import create_nmf_widget\n",
    "\n",
    "w = create_nmf_widget(\"config.json\")\n",
    "display(w)          # ‹— anywidget wrapper\n",
    "\n",
    "# fallback that always works (optional):\n",
    "# w.figure.show()"
   ]
  },
  {
   "cell_type": "code",
   "execution_count": 8,
   "id": "2e1fcc03-46e8-4cb8-b128-fcf92ee064fe",
   "metadata": {},
   "outputs": [
    {
     "name": "stdout",
     "output_type": "stream",
     "text": [
      "Loading data from: comps/all_H_component_contributions.csv\n",
      "Warning from UMAP library: n_jobs value 1 overridden to 1 by setting random_state. Use no seed for parallelism.\n"
     ]
    },
    {
     "data": {
      "application/vnd.jupyter.widget-view+json": {
       "model_id": "63ef266339644d1da3fdfb0ec7dd36c8",
       "version_major": 2,
       "version_minor": 0
      },
      "text/plain": [
       "VBox(children=(HBox(children=(VBox(children=(Button(icon='arrows', style='primary', tooltip='Activate pan & zo…"
      ]
     },
     "execution_count": 8,
     "metadata": {},
     "output_type": "execute_result"
    }
   ],
   "source": [
    "import pandas as pd\n",
    "import umap\n",
    "import jscatter\n",
    "import seaborn as sns\n",
    "from helpers.data_loader import get_prepared_data\n",
    "import warnings\n",
    "\n",
    "# For Google Colab, you might need to uncomment the following line:\n",
    "# jscatter.enable_colab()\n",
    "\n",
    "# 1. Load data using your custom loader specified in config.json\n",
    "component_matrix, sample_ids, cancer_types = get_prepared_data(\"config.json\")\n",
    "\n",
    "# 2. Perform UMAP dimensionality reduction and capture any warnings\n",
    "umap_warning_message = \"\"\n",
    "with warnings.catch_warnings(record=True) as w:\n",
    "    warnings.simplefilter(\"always\")  # Capture all warnings\n",
    "    u = umap.UMAP(n_components=2, random_state=42).fit_transform(component_matrix)\n",
    "    if w and issubclass(w[-1].category, UserWarning):\n",
    "        umap_warning_message = str(w[-1].message)\n",
    "\n",
    "# 3. If a warning was captured, print it\n",
    "if umap_warning_message:\n",
    "    print(f\"Warning from UMAP library: {umap_warning_message}\")\n",
    "\n",
    "# 4. Generate color key with the 'turbo' palette\n",
    "unique_labels = sorted(list(set(cancer_types)))\n",
    "color_key = dict(zip(unique_labels, sns.color_palette(\"turbo\", len(unique_labels))))\n",
    "\n",
    "# 5. Create the interactive jscatter plot object\n",
    "scatter = jscatter.Scatter(\n",
    "    data=pd.DataFrame({\n",
    "        \"x\": u[:, 0],\n",
    "        \"y\": u[:, 1],\n",
    "        \"Cancer Type\": cancer_types,\n",
    "        \"Sample ID\": sample_ids\n",
    "    }),\n",
    "    x=\"x\",\n",
    "    y=\"y\",\n",
    "    color_by=\"Cancer Type\",\n",
    "    color_map=color_key,\n",
    "    height=600\n",
    ").tooltip(\n",
    "    properties=[\"Sample ID\", \"Cancer Type\"]\n",
    ").size(\n",
    "    default=5  # Increase the size of all dots\n",
    ").options({\n",
    "    'aspectRatio': 1.0  # Set the aspect ratio to 1 for equal axes\n",
    "})\n",
    "\n",
    "# 6. Explicitly call .show() to display the plot as a widget\n",
    "scatter.show()\n"
   ]
  },
  {
   "cell_type": "code",
   "execution_count": 4,
   "id": "288d8e4f",
   "metadata": {
    "scrolled": true
   },
   "outputs": [],
   "source": [
    "# w.figure.show()"
   ]
  },
  {
   "cell_type": "code",
   "execution_count": 7,
   "id": "2e60f4ac",
   "metadata": {
    "scrolled": true
   },
   "outputs": [
    {
     "name": "stdout",
     "output_type": "stream",
     "text": [
      "Renderers configuration\n",
      "-----------------------\n",
      "    Default renderer: 'notebook'\n",
      "    Available renderers:\n",
      "        ['plotly_mimetype', 'jupyterlab', 'nteract', 'vscode',\n",
      "         'notebook', 'notebook_connected', 'kaggle', 'azure', 'colab',\n",
      "         'cocalc', 'databricks', 'json', 'png', 'jpeg', 'jpg', 'svg',\n",
      "         'pdf', 'browser', 'firefox', 'chrome', 'chromium', 'iframe',\n",
      "         'iframe_connected', 'sphinx_gallery', 'sphinx_gallery_png']\n",
      "\n",
      "<ipywidgets.widgets.widget.WidgetRegistry object at 0x0000020158C3ED50>\n"
     ]
    }
   ],
   "source": [
    "# Check available renderers\n",
    "import plotly.io as pio\n",
    "print(pio.renderers)\n",
    "\n",
    "# Try forcing the notebook renderer\n",
    "pio.renderers.default = \"notebook_connected\"\n",
    "w.figure.show()\n",
    "\n",
    "# Check if widget frontend is registered\n",
    "from ipywidgets import Widget\n",
    "print(Widget.widget_types)"
   ]
  },
  {
   "cell_type": "code",
   "execution_count": 8,
   "id": "622993b3",
   "metadata": {},
   "outputs": [],
   "source": [
    "# Save as HTML and view in browser\n",
    "w.figure.write_html(\"nmf_heatmap.html\")\n",
    "\n",
    "# Or use static image export\n",
    "# w.figure.write_image(\"nmf_heatmap.png\", width=1200, height=800)"
   ]
  },
  {
   "cell_type": "code",
   "execution_count": 9,
   "id": "8d57b565",
   "metadata": {},
   "outputs": [
    {
     "name": "stdout",
     "output_type": "stream",
     "text": [
      "Interactive HTML with sorting saved to interactive_nmf.html\n"
     ]
    }
   ],
   "source": [
    "# Export interactive HTML with sorting controls\n",
    "from widget.nmf_widget import create_html_with_sorting_controls\n",
    "html_file = create_html_with_sorting_controls(w, \"interactive_nmf.html\")\n",
    "print(f\"Interactive HTML with sorting saved to {html_file}\")"
   ]
  }
 ],
 "metadata": {
  "kernelspec": {
   "display_name": "Python 3 (ipykernel)",
   "language": "python",
   "name": "python3"
  },
  "language_info": {
   "codemirror_mode": {
    "name": "ipython",
    "version": 3
   },
   "file_extension": ".py",
   "mimetype": "text/x-python",
   "name": "python",
   "nbconvert_exporter": "python",
   "pygments_lexer": "ipython3",
   "version": "3.10.9"
  }
 },
 "nbformat": 4,
 "nbformat_minor": 5
}
