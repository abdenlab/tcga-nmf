{
 "cells": [
  {
   "cell_type": "code",
   "execution_count": 1,
   "id": "391c45d5",
   "metadata": {
    "id": "00_setup"
   },
   "outputs": [
    {
     "name": "stdout",
     "output_type": "stream",
     "text": [
      "✅ Libraries ready & custom-widget manager enabled\n"
     ]
    }
   ],
   "source": [
    "# 1 · install required libraries\n",
    "# !pip -q install --upgrade plotly anywidget pandas polars numpy\n",
    "\n",
    "\n",
    "print(\"✅ Libraries ready & custom-widget manager enabled\")"
   ]
  },
  {
   "cell_type": "code",
   "execution_count": 1,
   "id": "8441f5c1",
   "metadata": {
    "id": "10_import_reload"
   },
   "outputs": [
    {
     "name": "stdout",
     "output_type": "stream",
     "text": [
      "✅ helpers & widget packages reloaded from /net/users/voy/nmfwidget\n"
     ]
    }
   ],
   "source": [
    "# 2 · ensure project code is importable and reload edited modules\n",
    "import sys, pathlib, importlib, pprint\n",
    "\n",
    "root = pathlib.Path(\".\").resolve()\n",
    "if str(root) not in sys.path:\n",
    "    sys.path.append(str(root))\n",
    "\n",
    "import helpers.data_loader as dl\n",
    "import widget.nmf_widget as nmfw\n",
    "\n",
    "importlib.reload(dl)\n",
    "importlib.reload(nmfw)\n",
    "\n",
    "print(\"✅ helpers & widget packages reloaded from\", root)"
   ]
  },
  {
   "cell_type": "code",
   "execution_count": 2,
   "id": "c8e7b266",
   "metadata": {
    "id": "20_sanity_check"
   },
   "outputs": [
    {
     "name": "stdout",
     "output_type": "stream",
     "text": [
      "Loading data from: comps/all_H_component_contributions.csv\n",
      "Matrix shape: (410, 16)\n",
      "Sample IDs  : 410\n",
      "Cancer types: 410\n"
     ]
    }
   ],
   "source": [
    "# 3 · quick data sanity-check (optional)\n",
    "H, ids, cancers = dl.get_prepared_data(\"config.json\")\n",
    "print(\"Matrix shape:\", H.shape)\n",
    "print(\"Sample IDs  :\", len(ids))\n",
    "print(\"Cancer types:\", len(cancers))"
   ]
  },
  {
   "cell_type": "code",
   "execution_count": 3,
   "id": "e641b695",
   "metadata": {
    "id": "30_launch_widget"
   },
   "outputs": [
    {
     "name": "stdout",
     "output_type": "stream",
     "text": [
      "Loading data from: comps/all_H_component_contributions.csv\n",
      "Loading component colors from: nmf_component_color_map.json\n",
      "Loaded component colors: {'Comp_0': '#332288', 'Comp_1': '#88CCEE', 'Comp_2': '#117733', 'Comp_3': '#DDCC77', 'Comp_4': '#CC6677', 'Comp_5': '#882255', 'Comp_6': '#AA4499', 'Comp_7': '#44AA99', 'Comp_8': '#999933', 'Comp_9': '#DDDDDD', 'Comp_10': '#E69F00', 'Comp_11': '#56B4E9', 'Comp_12': '#009E73', 'Comp_13': '#F0E442', 'Comp_14': '#0072B2', 'Comp_15': '#D55E00'}\n",
      "Component color mapping: {'Component 1': {'color': '#332288', 'matched_key': 'Comp_0'}, 'Component 2': {'color': '#88CCEE', 'matched_key': 'Comp_1'}, 'Component 7': {'color': '#AA4499', 'matched_key': 'Comp_6'}, 'Component 11': {'color': '#E69F00', 'matched_key': 'Comp_10'}, 'Component 3': {'color': '#117733', 'matched_key': 'Comp_2'}, 'Component 5': {'color': '#CC6677', 'matched_key': 'Comp_4'}, 'Component 8': {'color': '#44AA99', 'matched_key': 'Comp_7'}, 'Component 9': {'color': '#999933', 'matched_key': 'Comp_8'}, 'Component 4': {'color': '#DDCC77', 'matched_key': 'Comp_3'}, 'Component 10': {'color': '#DDDDDD', 'matched_key': 'Comp_9'}, 'Component 6': {'color': '#882255', 'matched_key': 'Comp_5'}, 'Component 12': {'color': '#56B4E9', 'matched_key': 'Comp_11'}, 'Component 13': {'color': '#009E73', 'matched_key': 'Comp_12'}, 'Component 14': {'color': '#F0E442', 'matched_key': 'Comp_13'}, 'Component 15': {'color': '#0072B2', 'matched_key': 'Comp_14'}, 'Component 16': {'color': '#D55E00', 'matched_key': 'Comp_15'}}\n",
      "NMFHeatmapWidget: Initialization complete.\n"
     ]
    },
    {
     "data": {
      "application/vnd.jupyter.widget-view+json": {
       "model_id": "1d6942309ed5488bbbc6ca69856da225",
       "version_major": 2,
       "version_minor": 0
      },
      "text/plain": [
       "VBox(children=(Dropdown(description='Sort by:', layout=Layout(width='200px'), options=(('Sort by Component', '…"
      ]
     },
     "metadata": {},
     "output_type": "display_data"
    }
   ],
   "source": [
    "# 4 · build & display the widget\n",
    "from widget import create_nmf_widget\n",
    "\n",
    "w = create_nmf_widget(\"config.json\")\n",
    "display(w)  # ‹— anywidget wrapper\n",
    "\n",
    "# fallback that always works (optional):\n",
    "# w.figure.show()"
   ]
  },
  {
   "cell_type": "code",
   "execution_count": 8,
   "id": "2e1fcc03-46e8-4cb8-b128-fcf92ee064fe",
   "metadata": {},
   "outputs": [
    {
     "name": "stdout",
     "output_type": "stream",
     "text": [
      "Loading data from: comps/all_H_component_contributions.csv\n",
      "Warning from UMAP library: n_jobs value 1 overridden to 1 by setting random_state. Use no seed for parallelism.\n"
     ]
    },
    {
     "data": {
      "application/vnd.jupyter.widget-view+json": {
       "model_id": "63ef266339644d1da3fdfb0ec7dd36c8",
       "version_major": 2,
       "version_minor": 0
      },
      "text/plain": [
       "VBox(children=(HBox(children=(VBox(children=(Button(icon='arrows', style='primary', tooltip='Activate pan & zo…"
      ]
     },
     "execution_count": 8,
     "metadata": {},
     "output_type": "execute_result"
    }
   ],
   "source": [
    "import pandas as pd\n",
    "import umap\n",
    "import jscatter\n",
    "import seaborn as sns\n",
    "from helpers.data_loader import get_prepared_data\n",
    "import warnings\n",
    "\n",
    "# For Google Colab, you might need to uncomment the following line:\n",
    "# jscatter.enable_colab()\n",
    "\n",
    "# 1. Load data using your custom loader specified in config.json\n",
    "component_matrix, sample_ids, cancer_types = get_prepared_data(\"config.json\")\n",
    "\n",
    "# 2. Perform UMAP dimensionality reduction and capture any warnings\n",
    "umap_warning_message = \"\"\n",
    "with warnings.catch_warnings(record=True) as w:\n",
    "    warnings.simplefilter(\"always\")  # Capture all warnings\n",
    "    u = umap.UMAP(n_components=2, random_state=42).fit_transform(component_matrix)\n",
    "    if w and issubclass(w[-1].category, UserWarning):\n",
    "        umap_warning_message = str(w[-1].message)\n",
    "\n",
    "# 3. If a warning was captured, print it\n",
    "if umap_warning_message:\n",
    "    print(f\"Warning from UMAP library: {umap_warning_message}\")\n",
    "\n",
    "# 4. Generate color key with the 'turbo' palette\n",
    "unique_labels = sorted(list(set(cancer_types)))\n",
    "color_key = dict(zip(unique_labels, sns.color_palette(\"turbo\", len(unique_labels))))\n",
    "\n",
    "# 5. Create the interactive jscatter plot object\n",
    "scatter = (\n",
    "    jscatter.Scatter(\n",
    "        data=pd.DataFrame(\n",
    "            {\n",
    "                \"x\": u[:, 0],\n",
    "                \"y\": u[:, 1],\n",
    "                \"Cancer Type\": cancer_types,\n",
    "                \"Sample ID\": sample_ids,\n",
    "            }\n",
    "        ),\n",
    "        x=\"x\",\n",
    "        y=\"y\",\n",
    "        color_by=\"Cancer Type\",\n",
    "        color_map=color_key,\n",
    "        height=600,\n",
    "    )\n",
    "    .tooltip(properties=[\"Sample ID\", \"Cancer Type\"])\n",
    "    .size(\n",
    "        default=5  # Increase the size of all dots\n",
    "    )\n",
    "    .options(\n",
    "        {\n",
    "            \"aspectRatio\": 1.0  # Set the aspect ratio to 1 for equal axes\n",
    "        }\n",
    "    )\n",
    ")\n",
    "\n",
    "# 6. Explicitly call .show() to display the plot as a widget\n",
    "scatter.show()"
   ]
  },
  {
   "cell_type": "code",
   "execution_count": 10,
   "id": "c59fad0c-2469-4ef3-87fa-0e8b7b3eba0d",
   "metadata": {},
   "outputs": [
    {
     "name": "stdout",
     "output_type": "stream",
     "text": [
      "Loading data from: comps/all_H_component_contributions.csv\n",
      "Warning from UMAP library: n_jobs value 1 overridden to 1 by setting random_state. Use no seed for parallelism.\n"
     ]
    },
    {
     "data": {
      "application/vnd.jupyter.widget-view+json": {
       "model_id": "8f79bd3c07814e71b3ec6341aa1cb475",
       "version_major": 2,
       "version_minor": 0
      },
      "text/plain": [
       "HBox(children=(VBox(children=(HBox(children=(VBox(children=(Button(icon='arrows', style='primary', tooltip='Ac…"
      ]
     },
     "metadata": {},
     "output_type": "display_data"
    }
   ],
   "source": [
    "import pandas as pd\n",
    "import umap\n",
    "import jscatter\n",
    "import seaborn as sns\n",
    "from helpers.data_loader import get_prepared_data\n",
    "import warnings\n",
    "import ipywidgets as widgets\n",
    "from IPython.display import display, clear_output\n",
    "\n",
    "\n",
    "# 1. Load data using your custom loader specified in config.json\n",
    "component_matrix, sample_ids, cancer_types = get_prepared_data(\"config.json\")\n",
    "\n",
    "# 2. Perform UMAP dimensionality reduction and capture any warnings\n",
    "umap_warning_message = \"\"\n",
    "with warnings.catch_warnings(record=True) as w:\n",
    "    warnings.simplefilter(\"always\")\n",
    "    u = umap.UMAP(n_components=2, random_state=42).fit_transform(component_matrix)\n",
    "    if w and issubclass(w[-1].category, UserWarning):\n",
    "        umap_warning_message = str(w[-1].message)\n",
    "\n",
    "# 3. If a warning was captured, print it\n",
    "if umap_warning_message:\n",
    "    print(f\"Warning from UMAP library: {umap_warning_message}\")\n",
    "\n",
    "# 4. Generate color key with the 'turbo' palette\n",
    "unique_labels = sorted(list(set(cancer_types)))\n",
    "color_key = dict(zip(unique_labels, sns.color_palette(\"turbo\", len(unique_labels))))\n",
    "\n",
    "# 5. Create a DataFrame with the UMAP data and metadata\n",
    "umap_df = pd.DataFrame(\n",
    "    {\n",
    "        \"Sample ID\": sample_ids,\n",
    "        \"Cancer Type\": cancer_types,\n",
    "        \"UMAP-1\": u[:, 0],\n",
    "        \"UMAP-2\": u[:, 1],\n",
    "    }\n",
    ")\n",
    "\n",
    "# 6. Create the interactive jscatter plot object\n",
    "scatter = (\n",
    "    jscatter.Scatter(\n",
    "        data=umap_df,\n",
    "        x=\"UMAP-1\",\n",
    "        y=\"UMAP-2\",\n",
    "        color_by=\"Cancer Type\",\n",
    "        color_map=color_key,\n",
    "        height=600,\n",
    "        lasso_callback=True,  # Enable lasso selection to trigger events\n",
    "    )\n",
    "    .tooltip(properties=[\"Sample ID\", \"Cancer Type\"])\n",
    "    .size(\n",
    "        default=5  # Increase the size of all dots\n",
    "    )\n",
    "    .options(\n",
    "        {\n",
    "            \"aspectRatio\": 1.0  # Set the aspect ratio to 1 for equal axes\n",
    "        }\n",
    "    )\n",
    ")\n",
    "\n",
    "# 7. Create an output widget to display the selected data table\n",
    "data_table_output = widgets.Output()\n",
    "\n",
    "\n",
    "# 8. Define the handler that updates the table when the selection changes\n",
    "@data_table_output.capture(clear_output=True)\n",
    "def selection_change_handler(change):\n",
    "    selected_indices = change.new\n",
    "    if len(selected_indices) > 0:\n",
    "        # If points are selected, display their data in the output widget\n",
    "        display(umap_df.iloc[selected_indices].style.hide(axis=\"index\"))\n",
    "    else:\n",
    "        # If the selection is cleared, show a message\n",
    "        print(\"No points selected.\")\n",
    "\n",
    "\n",
    "# 9. Link the handler to the scatter plot's selection changes\n",
    "# We observe the 'selection' trait of the underlying ipywidget\n",
    "scatter.widget.observe(selection_change_handler, names=[\"selection\"])\n",
    "\n",
    "# 10. Organize the plot and the output table into a horizontal layout\n",
    "interactive_view = widgets.HBox([scatter.show(), data_table_output])\n",
    "\n",
    "# 11. Display the combined interactive view\n",
    "display(interactive_view)"
   ]
  },
  {
   "cell_type": "code",
   "execution_count": null,
   "id": "ca172f22-69fa-4768-909b-6473b86b5c33",
   "metadata": {},
   "outputs": [],
   "source": [
    "## BROKEN BELOW"
   ]
  },
  {
   "cell_type": "code",
   "execution_count": 17,
   "id": "d67ab251-a0cb-44fc-b2d4-4c64da738618",
   "metadata": {},
   "outputs": [
    {
     "name": "stdout",
     "output_type": "stream",
     "text": [
      "Loading data from: comps/all_H_component_contributions.csv\n",
      "UMAP Warning: n_jobs value 1 overridden to 1 by setting random_state. Use no seed for parallelism.\n",
      "Loading data from: comps/all_H_component_contributions.csv\n",
      "Loading component colors from: nmf_component_color_map.json\n",
      "Loaded component colors: {'Comp_0': '#332288', 'Comp_1': '#88CCEE', 'Comp_2': '#117733', 'Comp_3': '#DDCC77', 'Comp_4': '#CC6677', 'Comp_5': '#882255', 'Comp_6': '#AA4499', 'Comp_7': '#44AA99', 'Comp_8': '#999933', 'Comp_9': '#DDDDDD', 'Comp_10': '#E69F00', 'Comp_11': '#56B4E9', 'Comp_12': '#009E73', 'Comp_13': '#F0E442', 'Comp_14': '#0072B2', 'Comp_15': '#D55E00'}\n",
      "Component color mapping: {'Component 1': {'color': '#332288', 'matched_key': 'Comp_0'}, 'Component 2': {'color': '#88CCEE', 'matched_key': 'Comp_1'}, 'Component 7': {'color': '#AA4499', 'matched_key': 'Comp_6'}, 'Component 11': {'color': '#E69F00', 'matched_key': 'Comp_10'}, 'Component 3': {'color': '#117733', 'matched_key': 'Comp_2'}, 'Component 5': {'color': '#CC6677', 'matched_key': 'Comp_4'}, 'Component 8': {'color': '#44AA99', 'matched_key': 'Comp_7'}, 'Component 9': {'color': '#999933', 'matched_key': 'Comp_8'}, 'Component 4': {'color': '#DDCC77', 'matched_key': 'Comp_3'}, 'Component 10': {'color': '#DDDDDD', 'matched_key': 'Comp_9'}, 'Component 6': {'color': '#882255', 'matched_key': 'Comp_5'}, 'Component 12': {'color': '#56B4E9', 'matched_key': 'Comp_11'}, 'Component 13': {'color': '#009E73', 'matched_key': 'Comp_12'}, 'Component 14': {'color': '#F0E442', 'matched_key': 'Comp_13'}, 'Component 15': {'color': '#0072B2', 'matched_key': 'Comp_14'}, 'Component 16': {'color': '#D55E00', 'matched_key': 'Comp_15'}}\n",
      "NMFHeatmapWidget: Initialization complete.\n"
     ]
    },
    {
     "data": {
      "application/vnd.jupyter.widget-view+json": {
       "model_id": "cac708b4900a4fbabce2198b0eff5889",
       "version_major": 2,
       "version_minor": 0
      },
      "text/plain": [
       "HBox(children=(VBox(children=(HBox(children=(VBox(children=(Button(icon='arrows', style='primary', tooltip='Ac…"
      ]
     },
     "metadata": {},
     "output_type": "display_data"
    }
   ],
   "source": [
    "import pandas as pd\n",
    "import numpy as np\n",
    "import umap\n",
    "import jscatter\n",
    "import seaborn as sns\n",
    "import ipywidgets as widgets\n",
    "from IPython.display import display, clear_output\n",
    "import warnings\n",
    "\n",
    "# Import your custom modules\n",
    "# This assumes your notebook is at the root of your project,\n",
    "# and your files are in `helpers/` and `widget/` subdirectories.\n",
    "from helpers.data_loader import get_prepared_data\n",
    "from widget.nmf_widget import NMFHeatmapWidget\n",
    "\n",
    "# 1. Load data using your custom data loader\n",
    "component_matrix, sample_ids, cancer_types = get_prepared_data(\"config.json\")\n",
    "\n",
    "# 2. Perform UMAP dimensionality reduction\n",
    "umap_warning_message = \"\"\n",
    "with warnings.catch_warnings(record=True) as w:\n",
    "    warnings.simplefilter(\"always\")\n",
    "    u = umap.UMAP(n_components=2, random_state=42).fit_transform(component_matrix)\n",
    "    if w and issubclass(w[-1].category, UserWarning):\n",
    "        umap_warning_message = str(w[-1].message)\n",
    "\n",
    "if umap_warning_message:\n",
    "    print(f\"UMAP Warning: {umap_warning_message}\")\n",
    "\n",
    "# 3. Prepare a DataFrame for jscatter\n",
    "umap_df = pd.DataFrame(\n",
    "    {\n",
    "        \"Sample ID\": sample_ids,\n",
    "        \"Cancer Type\": cancer_types,\n",
    "        \"UMAP-1\": u[:, 0],\n",
    "        \"UMAP-2\": u[:, 1],\n",
    "    }\n",
    ")\n",
    "\n",
    "# 4. Create the UMAP scatter plot\n",
    "color_key = dict(\n",
    "    zip(\n",
    "        sorted(list(set(cancer_types))),\n",
    "        sns.color_palette(\"turbo\", len(set(cancer_types))),\n",
    "    )\n",
    ")\n",
    "scatter_plot = jscatter.Scatter(\n",
    "    data=umap_df,\n",
    "    x=\"UMAP-1\",\n",
    "    y=\"UMAP-2\",\n",
    "    color_by=\"Cancer Type\",\n",
    "    color_map=color_key,\n",
    "    height=600,\n",
    "    lasso_callback=True,  # Ensure selection events are triggered\n",
    ").tooltip(properties=[\"Sample ID\", \"Cancer Type\"])\n",
    "\n",
    "# 5. Create an instance of your NMF Heatmap widget\n",
    "heatmap_widget = NMFHeatmapWidget(cfg_path=\"config.json\")\n",
    "\n",
    "# 6. Create an output widget for the selection data table\n",
    "data_table_output = widgets.Output()\n",
    "with data_table_output:\n",
    "    print(\"Select points on the UMAP plot to see details.\")\n",
    "\n",
    "\n",
    "# 7. Define the callback function to link the widgets\n",
    "@data_table_output.capture(clear_output=True)\n",
    "def link_selection_to_heatmap(change):\n",
    "    selected_indices = change.new\n",
    "    if selected_indices and len(selected_indices) > 0:\n",
    "        selected_data = umap_df.iloc[selected_indices]\n",
    "        selected_ids = selected_data[\"Sample ID\"].tolist()\n",
    "\n",
    "        # Update heatmap highlights and show the data table\n",
    "        heatmap_widget.update_highlight(selected_ids)\n",
    "        display(selected_data.style.hide(axis=\"index\"))\n",
    "    else:\n",
    "        # Clear highlights and table if selection is empty\n",
    "        heatmap_widget.update_highlight([])\n",
    "        print(\"No points selected.\")\n",
    "\n",
    "\n",
    "# 8. Observe selection changes on the UMAP plot and trigger the handler\n",
    "scatter_plot.widget.observe(link_selection_to_heatmap, names=[\"selection\"])\n",
    "\n",
    "# 9. Arrange the widgets for display\n",
    "# Scatter on the left, Heatmap and Data Table vertically stacked on the right\n",
    "app_layout = widgets.HBox(\n",
    "    [scatter_plot.show(), widgets.VBox([heatmap_widget, data_table_output])]\n",
    ")\n",
    "\n",
    "# 10. Display the final interactive application\n",
    "display(app_layout)"
   ]
  },
  {
   "cell_type": "code",
   "execution_count": 4,
   "id": "288d8e4f",
   "metadata": {
    "scrolled": true
   },
   "outputs": [],
   "source": [
    "# w.figure.show()"
   ]
  },
  {
   "cell_type": "code",
   "execution_count": 7,
   "id": "2e60f4ac",
   "metadata": {
    "scrolled": true
   },
   "outputs": [
    {
     "name": "stdout",
     "output_type": "stream",
     "text": [
      "Renderers configuration\n",
      "-----------------------\n",
      "    Default renderer: 'notebook'\n",
      "    Available renderers:\n",
      "        ['plotly_mimetype', 'jupyterlab', 'nteract', 'vscode',\n",
      "         'notebook', 'notebook_connected', 'kaggle', 'azure', 'colab',\n",
      "         'cocalc', 'databricks', 'json', 'png', 'jpeg', 'jpg', 'svg',\n",
      "         'pdf', 'browser', 'firefox', 'chrome', 'chromium', 'iframe',\n",
      "         'iframe_connected', 'sphinx_gallery', 'sphinx_gallery_png']\n",
      "\n",
      "<ipywidgets.widgets.widget.WidgetRegistry object at 0x0000020158C3ED50>\n"
     ]
    }
   ],
   "source": [
    "# Check available renderers\n",
    "import plotly.io as pio\n",
    "\n",
    "print(pio.renderers)\n",
    "\n",
    "# Try forcing the notebook renderer\n",
    "pio.renderers.default = \"notebook_connected\"\n",
    "w.figure.show()\n",
    "\n",
    "# Check if widget frontend is registered\n",
    "from ipywidgets import Widget\n",
    "\n",
    "print(Widget.widget_types)"
   ]
  },
  {
   "cell_type": "code",
   "execution_count": 8,
   "id": "622993b3",
   "metadata": {},
   "outputs": [],
   "source": [
    "# Save as HTML and view in browser\n",
    "w.figure.write_html(\"nmf_heatmap.html\")\n",
    "\n",
    "# Or use static image export\n",
    "# w.figure.write_image(\"nmf_heatmap.png\", width=1200, height=800)"
   ]
  },
  {
   "cell_type": "code",
   "execution_count": 9,
   "id": "8d57b565",
   "metadata": {},
   "outputs": [
    {
     "name": "stdout",
     "output_type": "stream",
     "text": [
      "Interactive HTML with sorting saved to interactive_nmf.html\n"
     ]
    }
   ],
   "source": [
    "# Export interactive HTML with sorting controls\n",
    "from widget.nmf_widget import create_html_with_sorting_controls\n",
    "\n",
    "html_file = create_html_with_sorting_controls(w, \"interactive_nmf.html\")\n",
    "print(f\"Interactive HTML with sorting saved to {html_file}\")"
   ]
  }
 ],
 "metadata": {
  "kernelspec": {
   "display_name": "Python 3 (ipykernel)",
   "language": "python",
   "name": "python3"
  },
  "language_info": {
   "codemirror_mode": {
    "name": "ipython",
    "version": 3
   },
   "file_extension": ".py",
   "mimetype": "text/x-python",
   "name": "python",
   "nbconvert_exporter": "python",
   "pygments_lexer": "ipython3",
   "version": "3.10.9"
  }
 },
 "nbformat": 4,
 "nbformat_minor": 5
}
