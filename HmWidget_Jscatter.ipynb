{
 "cells": [
  {
   "cell_type": "code",
   "execution_count": null,
   "id": "ac2a609a-784b-46da-a960-a0d61dbc5f23",
   "metadata": {},
   "outputs": [],
   "source": [
    "# main_notebook.ipynb\n",
    "\n",
    "import ipywidgets as widgets\n",
    "from IPython.display import display\n",
    "from nmf_vis_app.scatter_plot_utils import create_nmf_scatter_visualization"
   ]
  },
  {
   "cell_type": "code",
   "execution_count": null,
   "id": "ab072e39-edb5-4c9c-83c9-3b8be2922c50",
   "metadata": {},
   "outputs": [],
   "source": [
    "# --- Create interactive controls ---\n",
    "sort_dropdown = widgets.Dropdown(\n",
    "    options=[\"component\", \"alphabetical\", \"cancer_type\", \"organ_system\"],\n",
    "    value=\"component\",\n",
    "    description=\"Sort by:\",\n",
    ")\n",
    "\n",
    "output_widget = widgets.Output()\n",
    "\n",
    "\n",
    "def on_sort_change(change):\n",
    "    with output_widget:\n",
    "        output_widget.clear_output(wait=True)\n",
    "        display(create_nmf_scatter_visualization(sort_method=change.new))\n",
    "\n",
    "\n",
    "sort_dropdown.observe(on_sort_change, names=\"value\")\n",
    "\n",
    "# --- Initial display ---\n",
    "with output_widget:\n",
    "    display(create_nmf_scatter_visualization(sort_method=sort_dropdown.value))\n",
    "\n",
    "display(widgets.VBox([sort_dropdown, output_widget]))"
   ]
  }
 ],
 "metadata": {
  "kernelspec": {
   "display_name": ".venv",
   "language": "python",
   "name": "python3"
  },
  "language_info": {
   "codemirror_mode": {
    "name": "ipython",
    "version": 3
   },
   "file_extension": ".py",
   "mimetype": "text/x-python",
   "name": "python",
   "nbconvert_exporter": "python",
   "pygments_lexer": "ipython3",
   "version": "3.10.17"
  }
 },
 "nbformat": 4,
 "nbformat_minor": 5
}
