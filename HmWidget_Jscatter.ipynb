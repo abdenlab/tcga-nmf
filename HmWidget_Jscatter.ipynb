{
 "cells": [
  {
   "cell_type": "code",
   "execution_count": 1,
   "id": "ac2a609a-784b-46da-a960-a0d61dbc5f23",
   "metadata": {},
   "outputs": [],
   "source": [
    "# main_notebook.ipynb\n",
    "\n",
    "import ipywidgets as widgets\n",
    "from IPython.display import display\n",
    "from nmf_vis_app.scatter_plot_utils import create_nmf_scatter_visualization\n",
    "\n"
   ]
  },
  {
   "cell_type": "code",
   "execution_count": 2,
   "id": "ab072e39-edb5-4c9c-83c9-3b8be2922c50",
   "metadata": {},
   "outputs": [
    {
     "data": {
      "application/vnd.jupyter.widget-view+json": {
       "model_id": "6312e20416d34989b7b8801295c4ed64",
       "version_major": 2,
       "version_minor": 0
      },
      "text/plain": [
       "VBox(children=(Dropdown(description='Sort by:', options=('component', 'alphabetical', 'cancer_type', 'organ_sy…"
      ]
     },
     "metadata": {},
     "output_type": "display_data"
    }
   ],
   "source": [
    "# --- Create interactive controls ---\n",
    "sort_dropdown = widgets.Dropdown(\n",
    "    options=['component', 'alphabetical', 'cancer_type', 'organ_system'],\n",
    "    value='component',\n",
    "    description='Sort by:'\n",
    ")\n",
    "\n",
    "output_widget = widgets.Output()\n",
    "\n",
    "def on_sort_change(change):\n",
    "    with output_widget:\n",
    "        output_widget.clear_output(wait=True)\n",
    "        display(create_nmf_scatter_visualization(sort_method=change.new))\n",
    "\n",
    "sort_dropdown.observe(on_sort_change, names='value')\n",
    "\n",
    "# --- Initial display ---\n",
    "with output_widget:\n",
    "    display(create_nmf_scatter_visualization(sort_method=sort_dropdown.value))\n",
    "\n",
    "display(widgets.VBox([sort_dropdown, output_widget]))"
   ]
  },
  {
   "cell_type": "code",
   "execution_count": null,
   "id": "3dc5d208-fa04-4737-a526-ee96ded841c8",
   "metadata": {},
   "outputs": [],
   "source": []
  },
  {
   "cell_type": "code",
   "execution_count": null,
   "id": "8d17c3cb-3cc9-4de5-841b-3939ef224119",
   "metadata": {},
   "outputs": [],
   "source": []
  }
 ],
 "metadata": {
  "kernelspec": {
   "display_name": "Python 3 (ipykernel)",
   "language": "python",
   "name": "python3"
  },
  "language_info": {
   "codemirror_mode": {
    "name": "ipython",
    "version": 3
   },
   "file_extension": ".py",
   "mimetype": "text/x-python",
   "name": "python",
   "nbconvert_exporter": "python",
   "pygments_lexer": "ipython3",
   "version": "3.10.9"
  }
 },
 "nbformat": 4,
 "nbformat_minor": 5
}
