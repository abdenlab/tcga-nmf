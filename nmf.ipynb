{
 "cells": [
  {
   "cell_type": "code",
   "execution_count": 1,
   "id": "ac2a609a-784b-46da-a960-a0d61dbc5f23",
   "metadata": {},
   "outputs": [],
   "source": [
    "import ipywidgets as widgets\n",
    "from IPython.display import display\n",
    "from nmf_vis_app.scatter_plot_utils import create_scatterplot\n",
    "from nmf_vis_app.heatmap import create_heatmap"
   ]
  },
  {
   "cell_type": "code",
   "execution_count": 2,
   "id": "ab072e39-edb5-4c9c-83c9-3b8be2922c50",
   "metadata": {},
   "outputs": [
    {
     "name": "stdout",
     "output_type": "stream",
     "text": [
      "Loading component colors from: nmf_component_color_map.json\n",
      "Loaded component colors: {'Comp_0': '#332288', 'Comp_1': '#88CCEE', 'Comp_2': '#117733', 'Comp_3': '#DDCC77', 'Comp_4': '#CC6677', 'Comp_5': '#882255', 'Comp_6': '#AA4499', 'Comp_7': '#44AA99', 'Comp_8': '#999933', 'Comp_9': '#DDDDDD', 'Comp_10': '#E69F00', 'Comp_11': '#56B4E9', 'Comp_12': '#009E73', 'Comp_13': '#F0E442', 'Comp_14': '#0072B2', 'Comp_15': '#D55E00'}\n",
      "Component color mapping: {'Component 1': {'color': '#332288', 'matched_key': 'Comp_0'}, 'Component 2': {'color': '#88CCEE', 'matched_key': 'Comp_1'}, 'Component 7': {'color': '#AA4499', 'matched_key': 'Comp_6'}, 'Component 11': {'color': '#E69F00', 'matched_key': 'Comp_10'}, 'Component 3': {'color': '#117733', 'matched_key': 'Comp_2'}, 'Component 5': {'color': '#CC6677', 'matched_key': 'Comp_4'}, 'Component 8': {'color': '#44AA99', 'matched_key': 'Comp_7'}, 'Component 9': {'color': '#999933', 'matched_key': 'Comp_8'}, 'Component 4': {'color': '#DDCC77', 'matched_key': 'Comp_3'}, 'Component 10': {'color': '#DDDDDD', 'matched_key': 'Comp_9'}, 'Component 6': {'color': '#882255', 'matched_key': 'Comp_5'}, 'Component 12': {'color': '#56B4E9', 'matched_key': 'Comp_11'}, 'Component 13': {'color': '#009E73', 'matched_key': 'Comp_12'}, 'Component 14': {'color': '#F0E442', 'matched_key': 'Comp_13'}, 'Component 15': {'color': '#0072B2', 'matched_key': 'Comp_14'}, 'Component 16': {'color': '#D55E00', 'matched_key': 'Comp_15'}}\n",
      "UMAP Warning: n_jobs value 1 overridden to 1 by setting random_state. Use no seed for parallelism.\n"
     ]
    },
    {
     "data": {
      "application/vnd.jupyter.widget-view+json": {
<<<<<<< Updated upstream
       "model_id": "55ab3cb994934cec8964d66988f7449d",
=======
       "model_id": "bca86740eec94b5a9324a5df58d1a170",
>>>>>>> Stashed changes
       "version_major": 2,
       "version_minor": 0
      },
      "text/plain": [
       "VBox(children=(Dropdown(description='Sort by:', options=('component', 'alphabetical', 'cancer_type', 'organ_sy…"
      ]
     },
     "metadata": {},
     "output_type": "display_data"
    }
   ],
   "source": [
    "sort_dropdown = widgets.Dropdown(\n",
    "    options=[\"component\", \"alphabetical\", \"cancer_type\", \"organ_system\"],\n",
    "    value=\"component\",\n",
    "    description=\"Sort by:\",\n",
    ")\n",
    "\n",
    "heatmap_widget = widgets.Output()\n",
    "\n",
    "umap_widget = widgets.Output()\n",
    "\n",
    "heatmap_output = create_heatmap(cfg_path=\"config.json\", sort_method=sort_dropdown.value)\n",
    "\n",
    "umap_output = create_scatterplot(cfg_path=\"config.json\", sort_method=sort_dropdown.value)\n",
    "\n",
    "selection = None\n",
    "\n",
    "\n",
    "def on_sort_change(change):\n",
    "    with heatmap_widget:\n",
    "        heatmap_widget.clear_output(wait=True)\n",
    "        display(create_heatmap(cfg_path=\"config.json\", sort_method=change.new, sample_ids=selection))\n",
    "\n",
    "\n",
    "sort_dropdown.observe(on_sort_change, names=\"value\")\n",
    "\n",
    "\n",
    "def on_selection_change(change):\n",
    "    \"\"\"Handles selection changes in the UMAP plot.\"\"\"\n",
    "    with heatmap_widget:\n",
    "        heatmap_widget.clear_output(wait=True)\n",
    "        global selection\n",
    "        if change.new.size:\n",
    "            selection = change.new\n",
    "            display(create_heatmap(cfg_path=\"config.json\", sort_method=sort_dropdown.value, sample_ids=change.new))\n",
    "            # umap_widget = create_scatterplot(sort_method=sort_dropdown.value).widget\n",
    "            # umap_widget.observe(on_selection_change, names=\"selection\")\n",
    "            # display(umap_widget)\n",
    "        else:\n",
    "            selection = None \n",
    "            display(create_heatmap(cfg_path=\"config.json\", sort_method=sort_dropdown.value))\n",
    "             \n",
    "\n",
    "umap_output.widget.observe(on_selection_change, names=\"selection\")\n",
    "\n",
    "# --- Initial display ---\n",
    "with heatmap_widget:\n",
    "    display(heatmap_output)\n",
    "\n",
    "with umap_widget:\n",
    "    display(umap_output.widget)\n",
    "\n",
    "display(widgets.VBox([sort_dropdown, heatmap_widget, umap_widget]))"
   ]
  },
  {
   "cell_type": "code",
   "execution_count": null,
   "id": "0e4d852a-c661-4d4c-920b-3c575697544b",
   "metadata": {},
   "outputs": [],
   "source": []
  }
 ],
 "metadata": {
  "kernelspec": {
   "display_name": "Python 3 (ipykernel)",
   "language": "python",
   "name": "python3"
  },
  "language_info": {
   "codemirror_mode": {
    "name": "ipython",
    "version": 3
   },
   "file_extension": ".py",
   "mimetype": "text/x-python",
   "name": "python",
   "nbconvert_exporter": "python",
   "pygments_lexer": "ipython3",
   "version": "3.11.10"
  }
 },
 "nbformat": 4,
 "nbformat_minor": 5
}
