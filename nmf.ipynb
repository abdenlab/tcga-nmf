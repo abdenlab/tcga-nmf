{
 "cells": [
  {
   "cell_type": "code",
   "execution_count": null,
   "id": "ac2a609a-784b-46da-a960-a0d61dbc5f23",
   "metadata": {},
   "outputs": [],
   "source": [
    "import ipywidgets as widgets\n",
    "from IPython.display import display\n",
    "from nmf_vis.scatter import create_scatterplot\n",
    "from nmf_vis.heatmap import create_heatmap"
   ]
  },
  {
   "cell_type": "code",
   "execution_count": null,
   "id": "ab072e39-edb5-4c9c-83c9-3b8be2922c50",
   "metadata": {},
   "outputs": [],
   "source": [
    "heatmap_output = widgets.Output()\n",
    "umap_output = widgets.Output()\n",
    "sort_dropdown = widgets.Dropdown(\n",
    "    options=[\"component\", \"alphabetical\", \"cancer_type\", \"organ_system\"],\n",
    "    value=\"component\",\n",
    "    description=\"Sort by:\",\n",
    ")\n",
    "\n",
    "heatmap_widget = create_heatmap(cfg_path=\"conf/config.json\", sort_method=sort_dropdown.value)\n",
    "umap_widget = create_scatterplot(cfg_path=\"conf/config.json\", sort_method=sort_dropdown.value)\n",
    "selection = None\n",
    "\n",
    "\n",
    "def on_sort_change(change):\n",
    "    with heatmap_output:\n",
    "        heatmap_output.clear_output(wait=True)\n",
    "        display(create_heatmap(cfg_path=\"conf/config.json\", sort_method=change.new, sample_ids=selection))\n",
    "\n",
    "\n",
    "sort_dropdown.observe(on_sort_change, names=\"value\")\n",
    "\n",
    "\n",
    "def on_selection_change(change):\n",
    "    \"\"\"Handles selection changes in the UMAP plot.\"\"\"\n",
    "    with heatmap_output:\n",
    "        heatmap_output.clear_output(wait=True)\n",
    "        global selection\n",
    "        if change.new.size:\n",
    "            selection = change.new\n",
    "            display(create_heatmap(cfg_path=\"conf/config.json\", sort_method=sort_dropdown.value, sample_ids=change.new))\n",
    "        else:\n",
    "            selection = None \n",
    "            display(create_heatmap(cfg_path=\"conf/config.json\", sort_method=sort_dropdown.value))\n",
    "             \n",
    "\n",
    "scatter = umap_widget.widget\n",
    "scatter.observe(on_selection_change, names=\"selection\")\n",
    "\n",
    "# --- Initial display ---\n",
    "with heatmap_output:\n",
    "    display(heatmap_widget)\n",
    "\n",
    "with umap_output:\n",
    "    display(scatter.show())\n",
    "\n",
    "display(widgets.HBox([widgets.VBox([umap_output, sort_dropdown]), heatmap_output]))"
   ]
  },
  {
   "cell_type": "code",
   "execution_count": null,
   "id": "ca560378",
   "metadata": {},
   "outputs": [],
   "source": [
    "scatter.data.iloc[selection]"
   ]
  },
  {
   "cell_type": "code",
   "execution_count": null,
   "id": "df9c7b39-d4f2-4af9-89ac-0a2c766e7036",
   "metadata": {},
   "outputs": [],
   "source": []
  }
 ],
 "metadata": {
  "kernelspec": {
   "display_name": ".venv",
   "language": "python",
   "name": "python3"
  },
  "language_info": {
   "codemirror_mode": {
    "name": "ipython",
    "version": 3
   },
   "file_extension": ".py",
   "mimetype": "text/x-python",
   "name": "python",
   "nbconvert_exporter": "python",
   "pygments_lexer": "ipython3",
   "version": "3.11.10"
  }
 },
 "nbformat": 4,
 "nbformat_minor": 5
}
